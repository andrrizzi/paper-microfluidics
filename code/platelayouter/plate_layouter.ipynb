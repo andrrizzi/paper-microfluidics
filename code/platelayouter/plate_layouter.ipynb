{
 "cells": [
  {
   "cell_type": "code",
   "execution_count": 1,
   "metadata": {
    "collapsed": true
   },
   "outputs": [],
   "source": [
    "# Requires Inkscape installed in \"/Applications/Inkscape.app/Contents/Resources/bin/inkscape\"\n",
    "import os\n",
    "import svgwrite\n",
    "from IPython.display import SVG, display_svg"
   ]
  },
  {
   "cell_type": "code",
   "execution_count": 2,
   "metadata": {
    "collapsed": false
   },
   "outputs": [
    {
     "data": {
      "image/svg+xml": [
       "<svg baseProfile=\"full\" height=\"86.48mm\" version=\"1.1\" viewBox=\"0,0,128.66,86.48\" width=\"128.66mm\" xmlns=\"http://www.w3.org/2000/svg\" xmlns:ev=\"http://www.w3.org/2001/xml-events\" xmlns:xlink=\"http://www.w3.org/1999/xlink\"><defs/><rect fill=\"rgb(255,255,255)\" height=\"85.48\" rx=\"2\" stroke=\"black\" stroke-width=\"0.8\" width=\"127.66\" x=\"0.5\" y=\"0.5\"/><rect fill=\"rgb(255,255,255)\" height=\"81.88\" rx=\"2\" stroke=\"black\" stroke-width=\"0.8\" width=\"124.06\" x=\"2.3\" y=\"2.3\"/><text alignment-baseline=\"middle\" font-family=\"Futura\" font-size=\"4.5\" text-anchor=\"middle\" x=\"8.08\" y=\"12.74\">1</text><text alignment-baseline=\"middle\" font-family=\"Futura\" font-size=\"4.5\" text-anchor=\"middle\" x=\"8.08\" y=\"21.74\">2</text><text alignment-baseline=\"middle\" font-family=\"Futura\" font-size=\"4.5\" text-anchor=\"middle\" x=\"8.08\" y=\"30.74\">3</text><text alignment-baseline=\"middle\" font-family=\"Futura\" font-size=\"4.5\" text-anchor=\"middle\" x=\"8.08\" y=\"39.74\">4</text><text alignment-baseline=\"middle\" font-family=\"Futura\" font-size=\"4.5\" text-anchor=\"middle\" x=\"8.08\" y=\"48.74\">5</text><text alignment-baseline=\"middle\" font-family=\"Futura\" font-size=\"4.5\" text-anchor=\"middle\" x=\"8.08\" y=\"57.74\">6</text><text alignment-baseline=\"middle\" font-family=\"Futura\" font-size=\"4.5\" text-anchor=\"middle\" x=\"8.08\" y=\"66.74\">7</text><text alignment-baseline=\"middle\" font-family=\"Futura\" font-size=\"4.5\" text-anchor=\"middle\" x=\"8.08\" y=\"75.74\">8</text><text alignment-baseline=\"middle\" font-family=\"Futura\" font-size=\"4.5\" text-anchor=\"middle\" x=\"14.83\" y=\"6.79\">A</text><text alignment-baseline=\"middle\" font-family=\"Futura\" font-size=\"4.5\" text-anchor=\"middle\" x=\"23.83\" y=\"6.79\">B</text><text alignment-baseline=\"middle\" font-family=\"Futura\" font-size=\"4.5\" text-anchor=\"middle\" x=\"32.83\" y=\"6.79\">C</text><text alignment-baseline=\"middle\" font-family=\"Futura\" font-size=\"4.5\" text-anchor=\"middle\" x=\"41.83\" y=\"6.79\">D</text><text alignment-baseline=\"middle\" font-family=\"Futura\" font-size=\"4.5\" text-anchor=\"middle\" x=\"50.83\" y=\"6.79\">E</text><text alignment-baseline=\"middle\" font-family=\"Futura\" font-size=\"4.5\" text-anchor=\"middle\" x=\"59.83\" y=\"6.79\">F</text><text alignment-baseline=\"middle\" font-family=\"Futura\" font-size=\"4.5\" text-anchor=\"middle\" x=\"68.83\" y=\"6.79\">G</text><text alignment-baseline=\"middle\" font-family=\"Futura\" font-size=\"4.5\" text-anchor=\"middle\" x=\"77.83\" y=\"6.79\">H</text><text alignment-baseline=\"middle\" font-family=\"Futura\" font-size=\"4.5\" text-anchor=\"middle\" x=\"86.83\" y=\"6.79\">I</text><text alignment-baseline=\"middle\" font-family=\"Futura\" font-size=\"4.5\" text-anchor=\"middle\" x=\"95.83\" y=\"6.79\">J</text><text alignment-baseline=\"middle\" font-family=\"Futura\" font-size=\"4.5\" text-anchor=\"middle\" x=\"104.83\" y=\"6.79\">K</text><text alignment-baseline=\"middle\" font-family=\"Futura\" font-size=\"4.5\" text-anchor=\"middle\" x=\"113.83\" y=\"6.79\">L</text><circle cx=\"14.83\" cy=\"11.74\" fill=\"rgb(255,255,255)\" r=\"3.5\" stroke=\"black\" stroke-width=\"0.5\"/><circle cx=\"23.83\" cy=\"11.74\" fill=\"rgb(255,255,255)\" r=\"3.5\" stroke=\"black\" stroke-width=\"0.5\"/><circle cx=\"32.83\" cy=\"11.74\" fill=\"rgb(255,255,255)\" r=\"3.5\" stroke=\"black\" stroke-width=\"0.5\"/><circle cx=\"41.83\" cy=\"11.74\" fill=\"rgb(255,255,255)\" r=\"3.5\" stroke=\"black\" stroke-width=\"0.5\"/><circle cx=\"50.83\" cy=\"11.74\" fill=\"rgb(255,255,255)\" r=\"3.5\" stroke=\"black\" stroke-width=\"0.5\"/><circle cx=\"59.83\" cy=\"11.74\" fill=\"rgb(255,255,255)\" r=\"3.5\" stroke=\"black\" stroke-width=\"0.5\"/><circle cx=\"68.83\" cy=\"11.74\" fill=\"rgb(255,255,255)\" r=\"3.5\" stroke=\"black\" stroke-width=\"0.5\"/><circle cx=\"77.83\" cy=\"11.74\" fill=\"rgb(255,255,255)\" r=\"3.5\" stroke=\"black\" stroke-width=\"0.5\"/><circle cx=\"86.83\" cy=\"11.74\" fill=\"rgb(255,255,255)\" r=\"3.5\" stroke=\"black\" stroke-width=\"0.5\"/><circle cx=\"95.83\" cy=\"11.74\" fill=\"rgb(255,255,255)\" r=\"3.5\" stroke=\"black\" stroke-width=\"0.5\"/><circle cx=\"104.83\" cy=\"11.74\" fill=\"rgb(255,255,255)\" r=\"3.5\" stroke=\"black\" stroke-width=\"0.5\"/><circle cx=\"113.83\" cy=\"11.74\" fill=\"rgb(255,255,255)\" r=\"3.5\" stroke=\"black\" stroke-width=\"0.5\"/><circle cx=\"14.83\" cy=\"20.74\" fill=\"rgb(255,255,255)\" r=\"3.5\" stroke=\"black\" stroke-width=\"0.5\"/><circle cx=\"23.83\" cy=\"20.74\" fill=\"rgb(255,255,255)\" r=\"3.5\" stroke=\"black\" stroke-width=\"0.5\"/><circle cx=\"32.83\" cy=\"20.74\" fill=\"rgb(255,255,255)\" r=\"3.5\" stroke=\"black\" stroke-width=\"0.5\"/><circle cx=\"41.83\" cy=\"20.74\" fill=\"rgb(255,255,255)\" r=\"3.5\" stroke=\"black\" stroke-width=\"0.5\"/><circle cx=\"50.83\" cy=\"20.74\" fill=\"rgb(255,255,255)\" r=\"3.5\" stroke=\"black\" stroke-width=\"0.5\"/><circle cx=\"59.83\" cy=\"20.74\" fill=\"rgb(255,255,255)\" r=\"3.5\" stroke=\"black\" stroke-width=\"0.5\"/><circle cx=\"68.83\" cy=\"20.74\" fill=\"rgb(255,255,255)\" r=\"3.5\" stroke=\"black\" stroke-width=\"0.5\"/><circle cx=\"77.83\" cy=\"20.74\" fill=\"rgb(255,255,255)\" r=\"3.5\" stroke=\"black\" stroke-width=\"0.5\"/><circle cx=\"86.83\" cy=\"20.74\" fill=\"rgb(255,255,255)\" r=\"3.5\" stroke=\"black\" stroke-width=\"0.5\"/><circle cx=\"95.83\" cy=\"20.74\" fill=\"rgb(255,255,255)\" r=\"3.5\" stroke=\"black\" stroke-width=\"0.5\"/><circle cx=\"104.83\" cy=\"20.74\" fill=\"rgb(255,255,255)\" r=\"3.5\" stroke=\"black\" stroke-width=\"0.5\"/><circle cx=\"113.83\" cy=\"20.74\" fill=\"rgb(255,255,255)\" r=\"3.5\" stroke=\"black\" stroke-width=\"0.5\"/><circle cx=\"14.83\" cy=\"29.74\" fill=\"rgb(255,255,255)\" r=\"3.5\" stroke=\"black\" stroke-width=\"0.5\"/><circle cx=\"23.83\" cy=\"29.74\" fill=\"rgb(255,255,255)\" r=\"3.5\" stroke=\"black\" stroke-width=\"0.5\"/><circle cx=\"32.83\" cy=\"29.74\" fill=\"rgb(255,255,255)\" r=\"3.5\" stroke=\"black\" stroke-width=\"0.5\"/><circle cx=\"41.83\" cy=\"29.74\" fill=\"rgb(255,255,255)\" r=\"3.5\" stroke=\"black\" stroke-width=\"0.5\"/><circle cx=\"50.83\" cy=\"29.74\" fill=\"rgb(255,255,255)\" r=\"3.5\" stroke=\"black\" stroke-width=\"0.5\"/><circle cx=\"59.83\" cy=\"29.74\" fill=\"rgb(255,255,255)\" r=\"3.5\" stroke=\"black\" stroke-width=\"0.5\"/><circle cx=\"68.83\" cy=\"29.74\" fill=\"rgb(255,255,255)\" r=\"3.5\" stroke=\"black\" stroke-width=\"0.5\"/><circle cx=\"77.83\" cy=\"29.74\" fill=\"rgb(255,255,255)\" r=\"3.5\" stroke=\"black\" stroke-width=\"0.5\"/><circle cx=\"86.83\" cy=\"29.74\" fill=\"rgb(255,255,255)\" r=\"3.5\" stroke=\"black\" stroke-width=\"0.5\"/><circle cx=\"95.83\" cy=\"29.74\" fill=\"rgb(255,255,255)\" r=\"3.5\" stroke=\"black\" stroke-width=\"0.5\"/><circle cx=\"104.83\" cy=\"29.74\" fill=\"rgb(255,255,255)\" r=\"3.5\" stroke=\"black\" stroke-width=\"0.5\"/><circle cx=\"113.83\" cy=\"29.74\" fill=\"rgb(255,255,255)\" r=\"3.5\" stroke=\"black\" stroke-width=\"0.5\"/><circle cx=\"14.83\" cy=\"38.74\" fill=\"rgb(255,255,255)\" r=\"3.5\" stroke=\"black\" stroke-width=\"0.5\"/><circle cx=\"23.83\" cy=\"38.74\" fill=\"rgb(255,255,255)\" r=\"3.5\" stroke=\"black\" stroke-width=\"0.5\"/><circle cx=\"32.83\" cy=\"38.74\" fill=\"rgb(255,255,255)\" r=\"3.5\" stroke=\"black\" stroke-width=\"0.5\"/><circle cx=\"41.83\" cy=\"38.74\" fill=\"rgb(255,255,255)\" r=\"3.5\" stroke=\"black\" stroke-width=\"0.5\"/><circle cx=\"50.83\" cy=\"38.74\" fill=\"rgb(255,255,255)\" r=\"3.5\" stroke=\"black\" stroke-width=\"0.5\"/><circle cx=\"59.83\" cy=\"38.74\" fill=\"rgb(255,255,255)\" r=\"3.5\" stroke=\"black\" stroke-width=\"0.5\"/><circle cx=\"68.83\" cy=\"38.74\" fill=\"rgb(255,255,255)\" r=\"3.5\" stroke=\"black\" stroke-width=\"0.5\"/><circle cx=\"77.83\" cy=\"38.74\" fill=\"rgb(255,255,255)\" r=\"3.5\" stroke=\"black\" stroke-width=\"0.5\"/><circle cx=\"86.83\" cy=\"38.74\" fill=\"rgb(255,255,255)\" r=\"3.5\" stroke=\"black\" stroke-width=\"0.5\"/><circle cx=\"95.83\" cy=\"38.74\" fill=\"rgb(255,255,255)\" r=\"3.5\" stroke=\"black\" stroke-width=\"0.5\"/><circle cx=\"104.83\" cy=\"38.74\" fill=\"rgb(255,255,255)\" r=\"3.5\" stroke=\"black\" stroke-width=\"0.5\"/><circle cx=\"113.83\" cy=\"38.74\" fill=\"rgb(255,255,255)\" r=\"3.5\" stroke=\"black\" stroke-width=\"0.5\"/><circle cx=\"14.83\" cy=\"47.74\" fill=\"rgb(255,255,255)\" r=\"3.5\" stroke=\"black\" stroke-width=\"0.5\"/><circle cx=\"23.83\" cy=\"47.74\" fill=\"rgb(255,255,255)\" r=\"3.5\" stroke=\"black\" stroke-width=\"0.5\"/><circle cx=\"32.83\" cy=\"47.74\" fill=\"rgb(255,255,255)\" r=\"3.5\" stroke=\"black\" stroke-width=\"0.5\"/><circle cx=\"41.83\" cy=\"47.74\" fill=\"rgb(255,255,255)\" r=\"3.5\" stroke=\"black\" stroke-width=\"0.5\"/><circle cx=\"50.83\" cy=\"47.74\" fill=\"rgb(255,255,255)\" r=\"3.5\" stroke=\"black\" stroke-width=\"0.5\"/><circle cx=\"59.83\" cy=\"47.74\" fill=\"rgb(255,255,255)\" r=\"3.5\" stroke=\"black\" stroke-width=\"0.5\"/><circle cx=\"68.83\" cy=\"47.74\" fill=\"rgb(255,255,255)\" r=\"3.5\" stroke=\"black\" stroke-width=\"0.5\"/><circle cx=\"77.83\" cy=\"47.74\" fill=\"rgb(255,255,255)\" r=\"3.5\" stroke=\"black\" stroke-width=\"0.5\"/><circle cx=\"86.83\" cy=\"47.74\" fill=\"rgb(255,255,255)\" r=\"3.5\" stroke=\"black\" stroke-width=\"0.5\"/><circle cx=\"95.83\" cy=\"47.74\" fill=\"rgb(255,255,255)\" r=\"3.5\" stroke=\"black\" stroke-width=\"0.5\"/><circle cx=\"104.83\" cy=\"47.74\" fill=\"rgb(255,255,255)\" r=\"3.5\" stroke=\"black\" stroke-width=\"0.5\"/><circle cx=\"113.83\" cy=\"47.74\" fill=\"rgb(255,255,255)\" r=\"3.5\" stroke=\"black\" stroke-width=\"0.5\"/><circle cx=\"14.83\" cy=\"56.74\" fill=\"rgb(255,255,255)\" r=\"3.5\" stroke=\"black\" stroke-width=\"0.5\"/><circle cx=\"23.83\" cy=\"56.74\" fill=\"rgb(255,255,255)\" r=\"3.5\" stroke=\"black\" stroke-width=\"0.5\"/><circle cx=\"32.83\" cy=\"56.74\" fill=\"rgb(255,255,255)\" r=\"3.5\" stroke=\"black\" stroke-width=\"0.5\"/><circle cx=\"41.83\" cy=\"56.74\" fill=\"rgb(255,255,255)\" r=\"3.5\" stroke=\"black\" stroke-width=\"0.5\"/><circle cx=\"50.83\" cy=\"56.74\" fill=\"rgb(255,255,255)\" r=\"3.5\" stroke=\"black\" stroke-width=\"0.5\"/><circle cx=\"59.83\" cy=\"56.74\" fill=\"rgb(255,255,255)\" r=\"3.5\" stroke=\"black\" stroke-width=\"0.5\"/><circle cx=\"68.83\" cy=\"56.74\" fill=\"rgb(255,255,255)\" r=\"3.5\" stroke=\"black\" stroke-width=\"0.5\"/><circle cx=\"77.83\" cy=\"56.74\" fill=\"rgb(255,255,255)\" r=\"3.5\" stroke=\"black\" stroke-width=\"0.5\"/><circle cx=\"86.83\" cy=\"56.74\" fill=\"rgb(255,255,255)\" r=\"3.5\" stroke=\"black\" stroke-width=\"0.5\"/><circle cx=\"95.83\" cy=\"56.74\" fill=\"rgb(255,255,255)\" r=\"3.5\" stroke=\"black\" stroke-width=\"0.5\"/><circle cx=\"104.83\" cy=\"56.74\" fill=\"rgb(255,255,255)\" r=\"3.5\" stroke=\"black\" stroke-width=\"0.5\"/><circle cx=\"113.83\" cy=\"56.74\" fill=\"rgb(255,255,255)\" r=\"3.5\" stroke=\"black\" stroke-width=\"0.5\"/><circle cx=\"14.83\" cy=\"65.74\" fill=\"rgb(255,255,255)\" r=\"3.5\" stroke=\"black\" stroke-width=\"0.5\"/><circle cx=\"23.83\" cy=\"65.74\" fill=\"rgb(255,255,255)\" r=\"3.5\" stroke=\"black\" stroke-width=\"0.5\"/><circle cx=\"32.83\" cy=\"65.74\" fill=\"rgb(255,255,255)\" r=\"3.5\" stroke=\"black\" stroke-width=\"0.5\"/><circle cx=\"41.83\" cy=\"65.74\" fill=\"rgb(255,255,255)\" r=\"3.5\" stroke=\"black\" stroke-width=\"0.5\"/><circle cx=\"50.83\" cy=\"65.74\" fill=\"rgb(255,255,255)\" r=\"3.5\" stroke=\"black\" stroke-width=\"0.5\"/><circle cx=\"59.83\" cy=\"65.74\" fill=\"rgb(255,255,255)\" r=\"3.5\" stroke=\"black\" stroke-width=\"0.5\"/><circle cx=\"68.83\" cy=\"65.74\" fill=\"rgb(255,255,255)\" r=\"3.5\" stroke=\"black\" stroke-width=\"0.5\"/><circle cx=\"77.83\" cy=\"65.74\" fill=\"rgb(255,255,255)\" r=\"3.5\" stroke=\"black\" stroke-width=\"0.5\"/><circle cx=\"86.83\" cy=\"65.74\" fill=\"rgb(255,255,255)\" r=\"3.5\" stroke=\"black\" stroke-width=\"0.5\"/><circle cx=\"95.83\" cy=\"65.74\" fill=\"rgb(255,255,255)\" r=\"3.5\" stroke=\"black\" stroke-width=\"0.5\"/><circle cx=\"104.83\" cy=\"65.74\" fill=\"rgb(255,255,255)\" r=\"3.5\" stroke=\"black\" stroke-width=\"0.5\"/><circle cx=\"113.83\" cy=\"65.74\" fill=\"rgb(255,255,255)\" r=\"3.5\" stroke=\"black\" stroke-width=\"0.5\"/><circle cx=\"14.83\" cy=\"74.74\" fill=\"rgb(255,255,255)\" r=\"3.5\" stroke=\"black\" stroke-width=\"0.5\"/><circle cx=\"23.83\" cy=\"74.74\" fill=\"rgb(255,255,255)\" r=\"3.5\" stroke=\"black\" stroke-width=\"0.5\"/><circle cx=\"32.83\" cy=\"74.74\" fill=\"rgb(255,255,255)\" r=\"3.5\" stroke=\"black\" stroke-width=\"0.5\"/><circle cx=\"41.83\" cy=\"74.74\" fill=\"rgb(255,255,255)\" r=\"3.5\" stroke=\"black\" stroke-width=\"0.5\"/><circle cx=\"50.83\" cy=\"74.74\" fill=\"rgb(255,255,255)\" r=\"3.5\" stroke=\"black\" stroke-width=\"0.5\"/><circle cx=\"59.83\" cy=\"74.74\" fill=\"rgb(255,255,255)\" r=\"3.5\" stroke=\"black\" stroke-width=\"0.5\"/><circle cx=\"68.83\" cy=\"74.74\" fill=\"rgb(255,255,255)\" r=\"3.5\" stroke=\"black\" stroke-width=\"0.5\"/><circle cx=\"77.83\" cy=\"74.74\" fill=\"rgb(255,255,255)\" r=\"3.5\" stroke=\"black\" stroke-width=\"0.5\"/><circle cx=\"86.83\" cy=\"74.74\" fill=\"rgb(255,255,255)\" r=\"3.5\" stroke=\"black\" stroke-width=\"0.5\"/><circle cx=\"95.83\" cy=\"74.74\" fill=\"rgb(255,255,255)\" r=\"3.5\" stroke=\"black\" stroke-width=\"0.5\"/><circle cx=\"104.83\" cy=\"74.74\" fill=\"rgb(255,255,255)\" r=\"3.5\" stroke=\"black\" stroke-width=\"0.5\"/><circle cx=\"113.83\" cy=\"74.74\" fill=\"rgb(255,255,255)\" r=\"3.5\" stroke=\"black\" stroke-width=\"0.5\"/></svg>"
      ]
     },
     "metadata": {},
     "output_type": "display_data"
    }
   ],
   "source": [
    "# Configuration & constants\n",
    "# -------------------------\n",
    "n_rows = 8\n",
    "n_cols = 12\n",
    "plate_width = 127.66  # mm, includes the two borders\n",
    "plate_height = 85.48  # mm, includes the two borders\n",
    "barrier_width = 0.5  # mm\n",
    "well_diameter = 7  # mm, does not include the barrier\n",
    "well_separation = 9  # mm, from center to center\n",
    "\n",
    "margin = 0.5  # mm, space between the external border and the end of the figure\n",
    "borders_width = 0.8  # mm, thickness of the two borders lines\n",
    "borders_space = 1  # mm, empty space between the two borders lines\n",
    "borders_radius = 2  # mm, radius of the borders corner\n",
    "\n",
    "\n",
    "# Inferring other measures\n",
    "# ------------------------\n",
    "\n",
    "# Figure size\n",
    "viewport_width = plate_width + 2 * margin\n",
    "viewport_height = plate_height + 2 * margin\n",
    "\n",
    "# Well diameter including barrier\n",
    "well_barrier_diameter =  2 * barrier_width + well_diameter\n",
    "\n",
    "# Space between well barrier and the external border\n",
    "padding_width = (plate_width - (n_cols - 1) * well_separation - well_barrier_diameter) / 2.0\n",
    "padding_height = (plate_height - (n_rows - 1) * well_separation - well_barrier_diameter) / 2.0\n",
    "\n",
    "# Coordinates of the top left well center\n",
    "first_x = margin + padding_width + barrier_width + well_diameter / 2.0\n",
    "first_y = margin + padding_height + barrier_width + well_diameter / 2.0\n",
    "\n",
    "\n",
    "# Draw plate\n",
    "# ----------\n",
    "size = (str(viewport_width) + 'mm', str(viewport_height) + 'mm')\n",
    "svg_document = svgwrite.Drawing(filename='plate' + str(n_cols * n_rows) + '.svg', size=size)\n",
    "\n",
    "# Modify ViewBox so that each user unit is equal to 1mm\n",
    "# http://sarasoueidan.com/blog/svg-coordinate-systems/\n",
    "# http://stackoverflow.com/questions/13006601/setting-default-units-in-svg-python-svgwrite\n",
    "svg_document.viewbox(width=viewport_width, height=viewport_height)\n",
    "\n",
    "\n",
    "svg_document.add(svg_document.rect(insert = (margin, margin),\n",
    "                                   size = (plate_width, plate_height),\n",
    "                                   rx = borders_radius,\n",
    "                                   stroke_width = borders_width,\n",
    "                                   stroke = \"black\",\n",
    "                                   fill = \"rgb(255,255,255)\"\n",
    "                                  ))\n",
    "\n",
    "bord_marg = borders_width + borders_space\n",
    "svg_document.add(svg_document.rect(insert = (margin + bord_marg, margin + bord_marg),\n",
    "                                   size = (plate_width - 2 * bord_marg, plate_height - 2 * bord_marg),\n",
    "                                   stroke_width = borders_width,\n",
    "                                   rx = borders_radius,\n",
    "                                   stroke = \"black\",\n",
    "                                   fill = \"rgb(255,255,255)\"\n",
    "                                  ))\n",
    "        \n",
    "for row in range(n_rows):\n",
    "    svg_document.add(svg_document.text(text = str(row + 1),      \n",
    "                                       insert = (-0.75 * well_separation + first_x,\n",
    "                                                 row * well_separation + first_y + 1),\n",
    "                                       text_anchor = 'middle',\n",
    "                                       font_size = 4.5,\n",
    "                                       alignment_baseline = 'middle',\n",
    "                                       font_family = 'Futura'\n",
    "                                      ))\n",
    "\n",
    "for col in range(n_cols):\n",
    "    svg_document.add(svg_document.text(text = chr(col + 65),      \n",
    "                                       insert = (col * well_separation + first_x,\n",
    "                                                 -0.55 * well_separation + first_y),\n",
    "                                       text_anchor = 'middle',\n",
    "                                       font_size = 4.5,\n",
    "                                       alignment_baseline = 'middle',\n",
    "                                       font_family = 'Futura'\n",
    "                                       ))\n",
    "\n",
    "for row in range(n_rows):\n",
    "    for col in range(n_cols):\n",
    "        svg_document.add(svg_document.circle(center = (first_x + col * well_separation, first_y + row * well_separation),\n",
    "                                             r = well_diameter / 2.0,\n",
    "                                             stroke_width = barrier_width,\n",
    "                                             stroke = \"black\",\n",
    "                                             fill = \"rgb(255,255,255)\"                                             \n",
    "                                            ))\n",
    "\n",
    "        \n",
    "# svg_document.stretch()\n",
    "display_svg(SVG(svg_document.tostring()))"
   ]
  },
  {
   "cell_type": "code",
   "execution_count": 3,
   "metadata": {
    "collapsed": false
   },
   "outputs": [],
   "source": [
    "def to_pdf_inkscape(svg, filename):\n",
    "    \"\"\"Save SVG and convert it to PDF with Inkscape on Mac OS X.\"\"\"\n",
    "    svg.save()\n",
    "    inkscape_path = \"/Applications/Inkscape.app/Contents/Resources/bin/inkscape\"\n",
    "    svg_path = os.path.abspath(svg_document.filename)\n",
    "    pdf_path = os.path.abspath(filename)\n",
    "    os.system(inkscape_path + ' -f ' + svg_path + ' -A ' + pdf_path)"
   ]
  },
  {
   "cell_type": "code",
   "execution_count": 4,
   "metadata": {
    "collapsed": true
   },
   "outputs": [],
   "source": [
    "to_pdf_inkscape(svg_document, 'plate' + str(n_cols * n_rows) + '.pdf')"
   ]
  },
  {
   "cell_type": "code",
   "execution_count": null,
   "metadata": {
    "collapsed": true
   },
   "outputs": [],
   "source": []
  }
 ],
 "metadata": {
  "kernelspec": {
   "display_name": "Python 2",
   "language": "python",
   "name": "python2"
  },
  "language_info": {
   "codemirror_mode": {
    "name": "ipython",
    "version": 2
   },
   "file_extension": ".py",
   "mimetype": "text/x-python",
   "name": "python",
   "nbconvert_exporter": "python",
   "pygments_lexer": "ipython2",
   "version": "2.7.10"
  }
 },
 "nbformat": 4,
 "nbformat_minor": 0
}
