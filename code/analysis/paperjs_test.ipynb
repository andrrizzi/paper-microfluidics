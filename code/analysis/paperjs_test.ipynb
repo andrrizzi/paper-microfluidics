{
 "metadata": {
  "celltoolbar": "Slideshow",
  "name": "",
  "signature": "sha256:9ac97dcf034a4846f8eccd86b39a78dd20dce0c5862cf126902a2a26300fe443"
 },
 "nbformat": 3,
 "nbformat_minor": 0,
 "worksheets": [
  {
   "cells": [
    {
     "cell_type": "code",
     "collapsed": false,
     "input": [
      "%%html\n",
      "\n",
      "<canvas id=\"myCanvas\" resize></canvas>"
     ],
     "language": "python",
     "metadata": {},
     "outputs": [
      {
       "html": [
        "\n",
        "<canvas id=\"myCanvas\" resize></canvas>"
       ],
       "metadata": {},
       "output_type": "display_data",
       "text": [
        "<IPython.core.display.HTML at 0x105321450>"
       ]
      }
     ],
     "prompt_number": 29
    },
    {
     "cell_type": "code",
     "collapsed": false,
     "input": [
      "%%javascript\n",
      "        // Ported from original Metaball script by SATO Hiroyuki\n",
      "        // http://park12.wakwak.com/~shp/lc/et/en_aics_script.html\n",
      "\n",
      "        var canvas = document.getElementById('myCanvas');\n",
      "\n",
      "        console.log(canvas);\n",
      "        console.log(\"Wo ist der Canvas\");\n",
      "\n",
      "        console.log(paper);\n",
      "        paper.activate();\n",
      "        paper.setup(canvas);\n",
      "\n",
      "        canvas.height = '400';\n",
      "\n",
      "        var path = new paper.Path();\n",
      "        // Give the stroke a color\n",
      "        path.strokeColor = 'red';\n",
      "        var start = new paper.Point(100, 100);\n",
      "        // Move to start and draw a line from there\n",
      "        path.moveTo(start);\n",
      "        // Note that the plus operator on Point objects does not work\n",
      "        // in JavaScript. Instead, we need to call the add() function:\n",
      "        path.lineTo(start.add([ 200, -50 ]));\n",
      "        // Draw the view now:\n",
      "        paper.view.draw();\n"
     ],
     "language": "python",
     "metadata": {},
     "outputs": [
      {
       "javascript": [
        "        // Ported from original Metaball script by SATO Hiroyuki\n",
        "        // http://park12.wakwak.com/~shp/lc/et/en_aics_script.html\n",
        "\n",
        "        var canvas = document.getElementById('myCanvas');\n",
        "\n",
        "        console.log(canvas);\n",
        "        console.log(\"Wo ist der Canvas\");\n",
        "\n",
        "        console.log(paper);\n",
        "        paper.activate();\n",
        "        paper.setup(canvas);\n",
        "\n",
        "        canvas.height = '400';\n",
        "\n",
        "        var path = new paper.Path();\n",
        "        // Give the stroke a color\n",
        "        path.strokeColor = 'red';\n",
        "        var start = new paper.Point(100, 100);\n",
        "        // Move to start and draw a line from there\n",
        "        path.moveTo(start);\n",
        "        // Note that the plus operator on Point objects does not work\n",
        "        // in JavaScript. Instead, we need to call the add() function:\n",
        "        path.lineTo(start.add([ 200, -50 ]));\n",
        "        // Draw the view now:\n",
        "        paper.view.draw();"
       ],
       "metadata": {},
       "output_type": "display_data",
       "text": [
        "<IPython.core.display.Javascript at 0x105321690>"
       ]
      }
     ],
     "prompt_number": 32
    },
    {
     "cell_type": "code",
     "collapsed": false,
     "input": [],
     "language": "python",
     "metadata": {},
     "outputs": [],
     "prompt_number": 30
    },
    {
     "cell_type": "code",
     "collapsed": false,
     "input": [
      "%%javascript\n",
      "\n",
      "var canvas = document.getElementById('myCanvas');\n",
      "\n",
      "var sc = paper.PaperScript.execute( '// Create a Paper.js Path to draw a line into it:' +\n",
      "'var path = new Path(); \\n' +\n",
      "'// Give the stroke a color\\n' +\n",
      "'path.strokeColor = \"red\";\\n' +\n",
      "'var start = new Point(200, 200);\\n' +\n",
      "'// Move to start and draw a line from there\\n' +\n",
      "'path.moveTo(start);\\n' +\n",
      "'// Note the plus operator on Point objects.\\n' +\n",
      "'// PaperScript does that for us, and much more!\\n' +\n",
      "'path.lineTo(start + [ 100, -50 ]);\\n'\n",
      ");\n",
      "\n",
      "paper.PaperScript.execute(sc)\n",
      "\n",
      "// paper.PaperScript.execute(sc, canvas)"
     ],
     "language": "python",
     "metadata": {},
     "outputs": [
      {
       "javascript": [
        "\n",
        "var canvas = document.getElementById('myCanvas');\n",
        "\n",
        "var sc = paper.PaperScript.execute( '// Create a Paper.js Path to draw a line into it:' +\n",
        "'var path = new Path(); \\n' +\n",
        "'// Give the stroke a color\\n' +\n",
        "'path.strokeColor = \"red\";\\n' +\n",
        "'var start = new Point(200, 200);\\n' +\n",
        "'// Move to start and draw a line from there\\n' +\n",
        "'path.moveTo(start);\\n' +\n",
        "'// Note the plus operator on Point objects.\\n' +\n",
        "'// PaperScript does that for us, and much more!\\n' +\n",
        "'path.lineTo(start + [ 100, -50 ]);\\n'\n",
        ");\n",
        "\n",
        "paper.PaperScript.execute(sc)\n",
        "\n",
        "// paper.PaperScript.execute(sc, canvas)"
       ],
       "metadata": {},
       "output_type": "display_data",
       "text": [
        "<IPython.core.display.Javascript at 0x105321710>"
       ]
      }
     ],
     "prompt_number": 31
    },
    {
     "cell_type": "code",
     "collapsed": false,
     "input": [],
     "language": "python",
     "metadata": {},
     "outputs": []
    }
   ],
   "metadata": {}
  }
 ]
}